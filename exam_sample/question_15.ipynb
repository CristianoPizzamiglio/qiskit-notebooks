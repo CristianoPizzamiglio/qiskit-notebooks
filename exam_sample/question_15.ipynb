{
 "cells": [
  {
   "cell_type": "code",
   "execution_count": 3,
   "id": "e3db1262",
   "metadata": {},
   "outputs": [],
   "source": [
    "from qiskit import QuantumCircuit, execute, BasicAer"
   ]
  },
  {
   "cell_type": "code",
   "execution_count": 4,
   "id": "221b44c8",
   "metadata": {},
   "outputs": [
    {
     "name": "stderr",
     "output_type": "stream",
     "text": [
      "No classical registers in circuit \"circuit-0\", counts will be empty.\n"
     ]
    },
    {
     "data": {
      "text/plain": [
       "<qiskit.providers.basicaer.basicaerjob.BasicAerJob at 0x2063b8f53d0>"
      ]
     },
     "execution_count": 4,
     "metadata": {},
     "output_type": "execute_result"
    }
   ],
   "source": [
    "backend = BasicAer.get_backend('qasm_simulator')\n",
    "qc = QuantumCircuit(3)\n",
    "\n",
    "execute(qc, backend, shots=1024, coupling_map=[[0, 1], [1, 2]])"
   ]
  }
 ],
 "metadata": {
  "kernelspec": {
   "display_name": "Python 3 (ipykernel)",
   "language": "python",
   "name": "python3"
  },
  "language_info": {
   "codemirror_mode": {
    "name": "ipython",
    "version": 3
   },
   "file_extension": ".py",
   "mimetype": "text/x-python",
   "name": "python",
   "nbconvert_exporter": "python",
   "pygments_lexer": "ipython3",
   "version": "3.8.10"
  }
 },
 "nbformat": 4,
 "nbformat_minor": 5
}
