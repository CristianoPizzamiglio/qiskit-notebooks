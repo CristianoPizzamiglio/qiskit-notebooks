{
 "cells": [
  {
   "cell_type": "code",
   "execution_count": 2,
   "id": "29e2a582",
   "metadata": {},
   "outputs": [],
   "source": [
    "from qiskit import QuantumCircuit\n",
    "from qiskit.quantum_info import Operator"
   ]
  },
  {
   "cell_type": "code",
   "execution_count": 3,
   "id": "5e9091b1",
   "metadata": {},
   "outputs": [],
   "source": [
    "qc = QuantumCircuit(1)\n",
    "qc.x(0)\n",
    "op = Operator(qc)"
   ]
  }
 ],
 "metadata": {
  "kernelspec": {
   "display_name": "Python 3 (ipykernel)",
   "language": "python",
   "name": "python3"
  },
  "language_info": {
   "codemirror_mode": {
    "name": "ipython",
    "version": 3
   },
   "file_extension": ".py",
   "mimetype": "text/x-python",
   "name": "python",
   "nbconvert_exporter": "python",
   "pygments_lexer": "ipython3",
   "version": "3.8.10"
  }
 },
 "nbformat": 4,
 "nbformat_minor": 5
}
