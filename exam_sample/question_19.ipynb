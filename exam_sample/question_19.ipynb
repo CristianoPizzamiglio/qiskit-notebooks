{
 "cells": [
  {
   "cell_type": "code",
   "execution_count": 16,
   "id": "4d1ca416",
   "metadata": {},
   "outputs": [],
   "source": [
    "import numpy as np\n",
    "\n",
    "from qiskit import QuantumCircuit\n",
    "from qiskit.quantum_info import Operator, average_gate_fidelity, process_fidelity\n",
    "from qiskit.circuit.library import XGate"
   ]
  },
  {
   "cell_type": "code",
   "execution_count": 17,
   "id": "06c38eac",
   "metadata": {},
   "outputs": [
    {
     "data": {
      "text/plain": [
       "1.0"
      ]
     },
     "execution_count": 17,
     "metadata": {},
     "output_type": "execute_result"
    }
   ],
   "source": [
    "op_a = Operator(XGate())\n",
    "op_b = np.exp(1j * 0.5) * op_a\n",
    "average_gate_fidelity(op_a, op_b)\n",
    "process_fidelity(op_a, op_b)"
   ]
  }
 ],
 "metadata": {
  "kernelspec": {
   "display_name": "Python 3 (ipykernel)",
   "language": "python",
   "name": "python3"
  },
  "language_info": {
   "codemirror_mode": {
    "name": "ipython",
    "version": 3
   },
   "file_extension": ".py",
   "mimetype": "text/x-python",
   "name": "python",
   "nbconvert_exporter": "python",
   "pygments_lexer": "ipython3",
   "version": "3.8.10"
  }
 },
 "nbformat": 4,
 "nbformat_minor": 5
}
